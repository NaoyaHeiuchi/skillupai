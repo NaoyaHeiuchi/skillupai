{
 "cells": [
  {
   "cell_type": "code",
   "execution_count": 65,
   "metadata": {},
   "outputs": [],
   "source": [
    "%matplotlib inline\n",
    "import pandas as pd\n",
    "import numpy as np\n",
    "from sklearn.linear_model import LinearRegression\n",
    "import seaborn as sns\n",
    "import matplotlib.pyplot as plt\n",
    "from mpl_toolkits.mplot3d import Axes3D #3D散布図の描画\n",
    "from sklearn.linear_model import LinearRegression, SGDClassifier\n",
    "from sklearn.metrics import mean_squared_error, mean_absolute_error # 回帰問題における性能評価に関する関数\n",
    "from  sklearn.metrics import accuracy_score, precision_recall_fscore_support, confusion_matrix # 回帰問題における性能評価に関する関数\n",
    "from sklearn.model_selection import train_test_split # ホールドアウト法に関する関数\n",
    "from sklearn.model_selection import KFold # 交差検証法に関する関数\n",
    "from sklearn.svm import SVC, SVR\n",
    "from sklearn.model_selection import GridSearchCV\n",
    "from sklearn.preprocessing import StandardScaler"
   ]
  },
  {
   "cell_type": "code",
   "execution_count": 19,
   "metadata": {},
   "outputs": [],
   "source": [
    "df = pd.read_csv(\"../ks-projects-201801/ks-projects-201801.csv\")"
   ]
  },
  {
   "cell_type": "code",
   "execution_count": 20,
   "metadata": {},
   "outputs": [],
   "source": [
    "df = df.drop(df.index[10000:])"
   ]
  },
  {
   "cell_type": "code",
   "execution_count": 21,
   "metadata": {},
   "outputs": [],
   "source": [
    "df1 = pd.get_dummies(df['state'])\n",
    "df2 = pd.merge(df, df1, left_index=True, right_index=True)"
   ]
  },
  {
   "cell_type": "code",
   "execution_count": 22,
   "metadata": {
    "scrolled": true
   },
   "outputs": [
    {
     "data": {
      "text/html": [
       "<div>\n",
       "<style scoped>\n",
       "    .dataframe tbody tr th:only-of-type {\n",
       "        vertical-align: middle;\n",
       "    }\n",
       "\n",
       "    .dataframe tbody tr th {\n",
       "        vertical-align: top;\n",
       "    }\n",
       "\n",
       "    .dataframe thead th {\n",
       "        text-align: right;\n",
       "    }\n",
       "</style>\n",
       "<table border=\"1\" class=\"dataframe\">\n",
       "  <thead>\n",
       "    <tr style=\"text-align: right;\">\n",
       "      <th></th>\n",
       "      <th>ID</th>\n",
       "      <th>goal</th>\n",
       "      <th>pledged</th>\n",
       "      <th>backers</th>\n",
       "      <th>usd pledged</th>\n",
       "      <th>usd_pledged_real</th>\n",
       "      <th>usd_goal_real</th>\n",
       "      <th>canceled</th>\n",
       "      <th>failed</th>\n",
       "      <th>live</th>\n",
       "      <th>successful</th>\n",
       "      <th>suspended</th>\n",
       "      <th>undefined</th>\n",
       "    </tr>\n",
       "  </thead>\n",
       "  <tbody>\n",
       "    <tr>\n",
       "      <th>count</th>\n",
       "      <td>1.000000e+04</td>\n",
       "      <td>1.000000e+04</td>\n",
       "      <td>1.000000e+04</td>\n",
       "      <td>10000.000000</td>\n",
       "      <td>9.898000e+03</td>\n",
       "      <td>1.000000e+04</td>\n",
       "      <td>1.000000e+04</td>\n",
       "      <td>10000.000000</td>\n",
       "      <td>10000.000000</td>\n",
       "      <td>10000.00000</td>\n",
       "      <td>10000.000000</td>\n",
       "      <td>10000.000000</td>\n",
       "      <td>10000.000000</td>\n",
       "    </tr>\n",
       "    <tr>\n",
       "      <th>mean</th>\n",
       "      <td>9.333645e+08</td>\n",
       "      <td>3.932786e+04</td>\n",
       "      <td>1.126714e+04</td>\n",
       "      <td>110.666500</td>\n",
       "      <td>7.722740e+03</td>\n",
       "      <td>1.050871e+04</td>\n",
       "      <td>3.233731e+04</td>\n",
       "      <td>0.100600</td>\n",
       "      <td>0.520400</td>\n",
       "      <td>0.00830</td>\n",
       "      <td>0.356500</td>\n",
       "      <td>0.004600</td>\n",
       "      <td>0.009600</td>\n",
       "    </tr>\n",
       "    <tr>\n",
       "      <th>std</th>\n",
       "      <td>2.789635e+08</td>\n",
       "      <td>5.333448e+05</td>\n",
       "      <td>1.300826e+05</td>\n",
       "      <td>960.793867</td>\n",
       "      <td>1.057760e+05</td>\n",
       "      <td>1.266181e+05</td>\n",
       "      <td>3.323909e+05</td>\n",
       "      <td>0.300813</td>\n",
       "      <td>0.499609</td>\n",
       "      <td>0.09073</td>\n",
       "      <td>0.478989</td>\n",
       "      <td>0.067671</td>\n",
       "      <td>0.097513</td>\n",
       "    </tr>\n",
       "    <tr>\n",
       "      <th>min</th>\n",
       "      <td>1.003381e+06</td>\n",
       "      <td>1.000000e+00</td>\n",
       "      <td>0.000000e+00</td>\n",
       "      <td>0.000000</td>\n",
       "      <td>0.000000e+00</td>\n",
       "      <td>0.000000e+00</td>\n",
       "      <td>9.100000e-01</td>\n",
       "      <td>0.000000</td>\n",
       "      <td>0.000000</td>\n",
       "      <td>0.00000</td>\n",
       "      <td>0.000000</td>\n",
       "      <td>0.000000</td>\n",
       "      <td>0.000000</td>\n",
       "    </tr>\n",
       "    <tr>\n",
       "      <th>25%</th>\n",
       "      <td>1.008698e+09</td>\n",
       "      <td>2.000000e+03</td>\n",
       "      <td>3.300000e+01</td>\n",
       "      <td>2.000000</td>\n",
       "      <td>2.000000e+01</td>\n",
       "      <td>3.300000e+01</td>\n",
       "      <td>2.000000e+03</td>\n",
       "      <td>0.000000</td>\n",
       "      <td>0.000000</td>\n",
       "      <td>0.00000</td>\n",
       "      <td>0.000000</td>\n",
       "      <td>0.000000</td>\n",
       "      <td>0.000000</td>\n",
       "    </tr>\n",
       "    <tr>\n",
       "      <th>50%</th>\n",
       "      <td>1.022847e+09</td>\n",
       "      <td>5.000000e+03</td>\n",
       "      <td>6.500000e+02</td>\n",
       "      <td>12.000000</td>\n",
       "      <td>4.210000e+02</td>\n",
       "      <td>6.494450e+02</td>\n",
       "      <td>5.250000e+03</td>\n",
       "      <td>0.000000</td>\n",
       "      <td>1.000000</td>\n",
       "      <td>0.00000</td>\n",
       "      <td>0.000000</td>\n",
       "      <td>0.000000</td>\n",
       "      <td>0.000000</td>\n",
       "    </tr>\n",
       "    <tr>\n",
       "      <th>75%</th>\n",
       "      <td>1.036712e+09</td>\n",
       "      <td>1.750000e+04</td>\n",
       "      <td>4.233000e+03</td>\n",
       "      <td>56.000000</td>\n",
       "      <td>3.105000e+03</td>\n",
       "      <td>4.176000e+03</td>\n",
       "      <td>1.619526e+04</td>\n",
       "      <td>0.000000</td>\n",
       "      <td>1.000000</td>\n",
       "      <td>0.00000</td>\n",
       "      <td>1.000000</td>\n",
       "      <td>0.000000</td>\n",
       "      <td>0.000000</td>\n",
       "    </tr>\n",
       "    <tr>\n",
       "      <th>max</th>\n",
       "      <td>1.050360e+09</td>\n",
       "      <td>4.000000e+07</td>\n",
       "      <td>8.596475e+06</td>\n",
       "      <td>63416.000000</td>\n",
       "      <td>8.596475e+06</td>\n",
       "      <td>8.596475e+06</td>\n",
       "      <td>2.000000e+07</td>\n",
       "      <td>1.000000</td>\n",
       "      <td>1.000000</td>\n",
       "      <td>1.00000</td>\n",
       "      <td>1.000000</td>\n",
       "      <td>1.000000</td>\n",
       "      <td>1.000000</td>\n",
       "    </tr>\n",
       "  </tbody>\n",
       "</table>\n",
       "</div>"
      ],
      "text/plain": [
       "                 ID          goal       pledged       backers   usd pledged  \\\n",
       "count  1.000000e+04  1.000000e+04  1.000000e+04  10000.000000  9.898000e+03   \n",
       "mean   9.333645e+08  3.932786e+04  1.126714e+04    110.666500  7.722740e+03   \n",
       "std    2.789635e+08  5.333448e+05  1.300826e+05    960.793867  1.057760e+05   \n",
       "min    1.003381e+06  1.000000e+00  0.000000e+00      0.000000  0.000000e+00   \n",
       "25%    1.008698e+09  2.000000e+03  3.300000e+01      2.000000  2.000000e+01   \n",
       "50%    1.022847e+09  5.000000e+03  6.500000e+02     12.000000  4.210000e+02   \n",
       "75%    1.036712e+09  1.750000e+04  4.233000e+03     56.000000  3.105000e+03   \n",
       "max    1.050360e+09  4.000000e+07  8.596475e+06  63416.000000  8.596475e+06   \n",
       "\n",
       "       usd_pledged_real  usd_goal_real      canceled        failed  \\\n",
       "count      1.000000e+04   1.000000e+04  10000.000000  10000.000000   \n",
       "mean       1.050871e+04   3.233731e+04      0.100600      0.520400   \n",
       "std        1.266181e+05   3.323909e+05      0.300813      0.499609   \n",
       "min        0.000000e+00   9.100000e-01      0.000000      0.000000   \n",
       "25%        3.300000e+01   2.000000e+03      0.000000      0.000000   \n",
       "50%        6.494450e+02   5.250000e+03      0.000000      1.000000   \n",
       "75%        4.176000e+03   1.619526e+04      0.000000      1.000000   \n",
       "max        8.596475e+06   2.000000e+07      1.000000      1.000000   \n",
       "\n",
       "              live    successful     suspended     undefined  \n",
       "count  10000.00000  10000.000000  10000.000000  10000.000000  \n",
       "mean       0.00830      0.356500      0.004600      0.009600  \n",
       "std        0.09073      0.478989      0.067671      0.097513  \n",
       "min        0.00000      0.000000      0.000000      0.000000  \n",
       "25%        0.00000      0.000000      0.000000      0.000000  \n",
       "50%        0.00000      0.000000      0.000000      0.000000  \n",
       "75%        0.00000      1.000000      0.000000      0.000000  \n",
       "max        1.00000      1.000000      1.000000      1.000000  "
      ]
     },
     "execution_count": 22,
     "metadata": {},
     "output_type": "execute_result"
    }
   ],
   "source": [
    "df2.describe()"
   ]
  },
  {
   "cell_type": "code",
   "execution_count": 23,
   "metadata": {},
   "outputs": [],
   "source": [
    "df2 = df2.drop(\"canceled\", axis=1)\n",
    "df2 = df2.drop(\"failed\", axis=1)\n",
    "df2 = df2.drop(\"live\",  axis=1)\n",
    "df2 = df2.drop(\"suspended\",  axis=1)\n",
    "df2 = df2.drop(\"undefined\",  axis=1)\n",
    "df2 = df2.drop(\"name\", axis=1)\n",
    "df2 = df2.drop(\"category\", axis=1)\n",
    "df2 = df2.drop(\"main_category\", axis=1)\n",
    "df2 = df2.drop(\"currency\", axis=1)\n",
    "df2 = df2.drop(\"deadline\", axis=1)\n",
    "df2 = df2.drop(\"launched\", axis=1)\n",
    "df2 = df2.drop(\"state\", axis=1)\n",
    "df2 = df2.drop(\"country\", axis=1)"
   ]
  },
  {
   "cell_type": "code",
   "execution_count": 24,
   "metadata": {},
   "outputs": [
    {
     "data": {
      "text/html": [
       "<div>\n",
       "<style scoped>\n",
       "    .dataframe tbody tr th:only-of-type {\n",
       "        vertical-align: middle;\n",
       "    }\n",
       "\n",
       "    .dataframe tbody tr th {\n",
       "        vertical-align: top;\n",
       "    }\n",
       "\n",
       "    .dataframe thead th {\n",
       "        text-align: right;\n",
       "    }\n",
       "</style>\n",
       "<table border=\"1\" class=\"dataframe\">\n",
       "  <thead>\n",
       "    <tr style=\"text-align: right;\">\n",
       "      <th></th>\n",
       "      <th>ID</th>\n",
       "      <th>goal</th>\n",
       "      <th>pledged</th>\n",
       "      <th>backers</th>\n",
       "      <th>usd pledged</th>\n",
       "      <th>usd_pledged_real</th>\n",
       "      <th>usd_goal_real</th>\n",
       "      <th>successful</th>\n",
       "    </tr>\n",
       "  </thead>\n",
       "  <tbody>\n",
       "    <tr>\n",
       "      <th>0</th>\n",
       "      <td>1000002330</td>\n",
       "      <td>1000.0</td>\n",
       "      <td>0.0</td>\n",
       "      <td>0</td>\n",
       "      <td>0.0</td>\n",
       "      <td>0.0</td>\n",
       "      <td>1533.95</td>\n",
       "      <td>0</td>\n",
       "    </tr>\n",
       "    <tr>\n",
       "      <th>1</th>\n",
       "      <td>1000003930</td>\n",
       "      <td>30000.0</td>\n",
       "      <td>2421.0</td>\n",
       "      <td>15</td>\n",
       "      <td>100.0</td>\n",
       "      <td>2421.0</td>\n",
       "      <td>30000.00</td>\n",
       "      <td>0</td>\n",
       "    </tr>\n",
       "    <tr>\n",
       "      <th>2</th>\n",
       "      <td>1000004038</td>\n",
       "      <td>45000.0</td>\n",
       "      <td>220.0</td>\n",
       "      <td>3</td>\n",
       "      <td>220.0</td>\n",
       "      <td>220.0</td>\n",
       "      <td>45000.00</td>\n",
       "      <td>0</td>\n",
       "    </tr>\n",
       "  </tbody>\n",
       "</table>\n",
       "</div>"
      ],
      "text/plain": [
       "           ID     goal  pledged  backers  usd pledged  usd_pledged_real  \\\n",
       "0  1000002330   1000.0      0.0        0          0.0               0.0   \n",
       "1  1000003930  30000.0   2421.0       15        100.0            2421.0   \n",
       "2  1000004038  45000.0    220.0        3        220.0             220.0   \n",
       "\n",
       "   usd_goal_real  successful  \n",
       "0        1533.95           0  \n",
       "1       30000.00           0  \n",
       "2       45000.00           0  "
      ]
     },
     "execution_count": 24,
     "metadata": {},
     "output_type": "execute_result"
    }
   ],
   "source": [
    "df2.head(3)"
   ]
  },
  {
   "cell_type": "code",
   "execution_count": 25,
   "metadata": {
    "scrolled": true
   },
   "outputs": [
    {
     "data": {
      "image/png": "[encoded data removed]",
      "text/plain": [
       "<Figure size 720x720 with 64 Axes>"
      ]
     },
     "metadata": {
      "needs_background": "light"
     },
     "output_type": "display_data"
    }
   ],
   "source": [
    "pd.plotting.scatter_matrix(df2, figsize=(10,10))\n",
    "plt.show()"
   ]
  },
  {
   "cell_type": "code",
   "execution_count": 26,
   "metadata": {},
   "outputs": [
    {
     "data": {
      "image/png": "[encoded data removed]",
      "text/plain": [
       "<Figure size 432x288 with 2 Axes>"
      ]
     },
     "metadata": {
      "needs_background": "light"
     },
     "output_type": "display_data"
    }
   ],
   "source": [
    "sns.heatmap(df2.corr())\n",
    "plt.show()"
   ]
  },
  {
   "cell_type": "code",
   "execution_count": 68,
   "metadata": {},
   "outputs": [
    {
     "data": {
      "text/plain": [
       "SGDClassifier(alpha=0.0001, average=False, class_weight=None,\n",
       "       early_stopping=False, epsilon=0.1, eta0=0.0, fit_intercept=True,\n",
       "       l1_ratio=0.15, learning_rate='optimal', loss='log', max_iter=10000,\n",
       "       n_iter=None, n_iter_no_change=5, n_jobs=None, penalty='none',\n",
       "       power_t=0.5, random_state=1234, shuffle=True, tol=0.001,\n",
       "       validation_fraction=0.1, verbose=0, warm_start=False)"
      ]
     },
     "execution_count": 68,
     "metadata": {},
     "output_type": "execute_result"
    }
   ],
   "source": [
    "# ロジスティック回帰\n",
    "y = df2[\"successful\"].values\n",
    "X = df2[[\"backers\"]].values\n",
    "clf = SGDClassifier(loss='log', penalty='none', max_iter=10000, fit_intercept=True, random_state=1234, tol=1e-3)\n",
    "clf.fit(X, y)"
   ]
  },
  {
   "cell_type": "code",
   "execution_count": 69,
   "metadata": {},
   "outputs": [
    {
     "name": "stdout",
     "output_type": "stream",
     "text": [
      "正答率（Accuracy） = 78.820%\n",
      "適合率（Precision） = 77.292%\n",
      "再現率（Recall） = 94.996%\n",
      "F1値（F1-score） = 85.234%\n"
     ]
    }
   ],
   "source": [
    "# ラベルを予測\n",
    "y_pred = clf.predict(X)\n",
    "\n",
    "# 正答率を計算\n",
    "accuracy =  accuracy_score(y, y_pred)\n",
    "print('正答率（Accuracy） = {:.3f}%'.format(100 * accuracy))\n",
    "\n",
    "# Precision, Recall, F1-scoreを計算\n",
    "precision, recall, f1_score, _ = precision_recall_fscore_support(y, y_pred)\n",
    "\n",
    "# カテゴリ「2000万以上」に関するPrecision, Recall, F1-scoreを表示\n",
    "print('適合率（Precision） = {:.3f}%'.format(100 * precision[0]))\n",
    "print('再現率（Recall） = {:.3f}%'.format(100 * recall[0]))\n",
    "print('F1値（F1-score） = {:.3f}%'.format(100 * f1_score[0]))"
   ]
  },
  {
   "cell_type": "code",
   "execution_count": 52,
   "metadata": {},
   "outputs": [
    {
     "name": "stdout",
     "output_type": "stream",
     "text": [
      "訓練誤差　MAE = 0.451\n",
      "汎化誤差　MAE = 0.456\n"
     ]
    },
    {
     "data": {
      "image/png": "[encoded data removed]",
      "text/plain": [
       "<Figure size 432x288 with 1 Axes>"
      ]
     },
     "metadata": {
      "needs_background": "light"
     },
     "output_type": "display_data"
    }
   ],
   "source": [
    "x = df2[[\"backers\"]].values\n",
    "X = x.reshape(-1,1) # scikit-learnに入力するために整形\n",
    "test_size = 0.2        # 全データのうち、何%をテストデータにするか（今回は20%に設定）\n",
    "X_train, X_test, y_train, y_test = train_test_split(X, y, test_size=test_size, random_state=1234) # ホールドアウト法を実行（テストデータはランダム選択）\n",
    "\n",
    "# 学習用データを使って線形回帰モデルを学習\n",
    "regr = LinearRegression(fit_intercept=True)\n",
    "regr.fit(X_train, y_train)\n",
    "\n",
    "# 学習用データに対する予測を実行\n",
    "y_pred_train = regr.predict(X_train)\n",
    "\n",
    "# 学習データに対するMAEを計算（訓練誤差の評価）\n",
    "mae = mean_absolute_error(y_train, y_pred_train)\n",
    "print(\"訓練誤差　MAE = %s\"%round(mae,3) )\n",
    "\n",
    "# テストデータに対する予測を実行\n",
    "y_pred_test = regr.predict(X_test)\n",
    "\n",
    "# テストデータに対するMAEを計算（汎化誤差の評価）\n",
    "mae = mean_absolute_error(y_test, y_pred_test)\n",
    "print(\"汎化誤差　MAE = %s\"%round(mae,3) )\n",
    "\n",
    "# グラフに重ねて表示する\n",
    "plt.plot(X_train, y_train, 'o', label='training data')\n",
    "plt.plot(X_test, y_test, '^', label='test data')\n",
    "plt.ylabel(\"successful\")\n",
    "plt.xlabel(\"backers\")\n",
    "plt.grid(which='major',color='black',linestyle=':')\n",
    "plt.grid(which='minor',color='black',linestyle=':')\n",
    "plt.plot(X_train, y_pred_train, label='regression')\n",
    "plt.legend(loc='best')\n",
    "plt.show()\n"
   ]
  },
  {
   "cell_type": "code",
   "execution_count": 53,
   "metadata": {},
   "outputs": [
    {
     "name": "stdout",
     "output_type": "stream",
     "text": [
      "Fold 1\n",
      "MAE = 0.456\n",
      "\n",
      "Fold 2\n",
      "MAE = 0.453\n",
      "\n",
      "Fold 3\n",
      "MAE = 0.451\n",
      "\n",
      "Fold 4\n",
      "MAE = 0.45\n",
      "\n",
      "Fold 5\n",
      "MAE = 0.454\n",
      "\n",
      "Cross Validation MAE = 0.453\n"
     ]
    }
   ],
   "source": [
    "x = df2[[\"backers\"]].values\n",
    "X = x.reshape(-1,1) # scikit-learnに入力するために整形\n",
    "n_split = 5 # グループ数を設定（今回は5分割）\n",
    "\n",
    "cross_valid_mae = 0\n",
    "split_num = 1\n",
    "\n",
    "# テスト役を交代させながら学習と評価を繰り返す\n",
    "for train_idx, test_idx in KFold(n_splits=n_split, shuffle=True, random_state=1234).split(X, y):\n",
    "    X_train, y_train = X[train_idx], y[train_idx] #学習用データ\n",
    "    X_test, y_test = X[test_idx], y[test_idx]     #テスト用データ\n",
    "    \n",
    "    # 学習用データを使って線形回帰モデルを学習\n",
    "    regr = LinearRegression(fit_intercept=True)\n",
    "    regr.fit(X_train, y_train)\n",
    "\n",
    "    # テストデータに対する予測を実行\n",
    "    y_pred_test = regr.predict(X_test)\n",
    "    \n",
    "    # テストデータに対するMAEを計算\n",
    "    mae = mean_absolute_error(y_test, y_pred_test)\n",
    "    print(\"Fold %s\"%split_num)\n",
    "    print(\"MAE = %s\"%round(mae, 3))\n",
    "    print()\n",
    "    \n",
    "    cross_valid_mae += mae #後で平均を取るためにMAEを加算\n",
    "    split_num += 1\n",
    "\n",
    "# MAEの平均値を最終的な汎化誤差値とする\n",
    "final_mae = cross_valid_mae / n_split\n",
    "print(\"Cross Validation MAE = %s\"%round(final_mae, 3))"
   ]
  },
  {
   "cell_type": "code",
   "execution_count": 55,
   "metadata": {},
   "outputs": [],
   "source": [
    "df3 = df2.drop(df2.index[100:])"
   ]
  },
  {
   "cell_type": "code",
   "execution_count": 56,
   "metadata": {},
   "outputs": [
    {
     "data": {
      "text/html": [
       "<div>\n",
       "<style scoped>\n",
       "    .dataframe tbody tr th:only-of-type {\n",
       "        vertical-align: middle;\n",
       "    }\n",
       "\n",
       "    .dataframe tbody tr th {\n",
       "        vertical-align: top;\n",
       "    }\n",
       "\n",
       "    .dataframe thead th {\n",
       "        text-align: right;\n",
       "    }\n",
       "</style>\n",
       "<table border=\"1\" class=\"dataframe\">\n",
       "  <thead>\n",
       "    <tr style=\"text-align: right;\">\n",
       "      <th></th>\n",
       "      <th>ID</th>\n",
       "      <th>goal</th>\n",
       "      <th>pledged</th>\n",
       "      <th>backers</th>\n",
       "      <th>usd pledged</th>\n",
       "      <th>usd_pledged_real</th>\n",
       "      <th>usd_goal_real</th>\n",
       "      <th>successful</th>\n",
       "    </tr>\n",
       "  </thead>\n",
       "  <tbody>\n",
       "    <tr>\n",
       "      <th>count</th>\n",
       "      <td>1.000000e+02</td>\n",
       "      <td>100.000000</td>\n",
       "      <td>100.000000</td>\n",
       "      <td>100.000000</td>\n",
       "      <td>100.000000</td>\n",
       "      <td>100.000000</td>\n",
       "      <td>100.000000</td>\n",
       "      <td>100.000000</td>\n",
       "    </tr>\n",
       "    <tr>\n",
       "      <th>mean</th>\n",
       "      <td>9.272811e+08</td>\n",
       "      <td>19796.710000</td>\n",
       "      <td>9134.102600</td>\n",
       "      <td>125.130000</td>\n",
       "      <td>7754.993100</td>\n",
       "      <td>9354.592000</td>\n",
       "      <td>19726.169400</td>\n",
       "      <td>0.420000</td>\n",
       "    </tr>\n",
       "    <tr>\n",
       "      <th>std</th>\n",
       "      <td>2.486553e+08</td>\n",
       "      <td>37117.042835</td>\n",
       "      <td>20203.825442</td>\n",
       "      <td>325.564022</td>\n",
       "      <td>17766.627521</td>\n",
       "      <td>21418.768917</td>\n",
       "      <td>37012.836925</td>\n",
       "      <td>0.496045</td>\n",
       "    </tr>\n",
       "    <tr>\n",
       "      <th>min</th>\n",
       "      <td>1.000365e+07</td>\n",
       "      <td>100.000000</td>\n",
       "      <td>0.000000</td>\n",
       "      <td>0.000000</td>\n",
       "      <td>0.000000</td>\n",
       "      <td>0.000000</td>\n",
       "      <td>65.550000</td>\n",
       "      <td>0.000000</td>\n",
       "    </tr>\n",
       "    <tr>\n",
       "      <th>25%</th>\n",
       "      <td>1.000072e+09</td>\n",
       "      <td>2875.000000</td>\n",
       "      <td>89.500000</td>\n",
       "      <td>3.000000</td>\n",
       "      <td>78.500000</td>\n",
       "      <td>96.575000</td>\n",
       "      <td>2894.837500</td>\n",
       "      <td>0.000000</td>\n",
       "    </tr>\n",
       "    <tr>\n",
       "      <th>50%</th>\n",
       "      <td>1.000184e+09</td>\n",
       "      <td>7500.000000</td>\n",
       "      <td>1116.000000</td>\n",
       "      <td>24.500000</td>\n",
       "      <td>771.910000</td>\n",
       "      <td>1116.000000</td>\n",
       "      <td>7608.205000</td>\n",
       "      <td>0.000000</td>\n",
       "    </tr>\n",
       "    <tr>\n",
       "      <th>75%</th>\n",
       "      <td>1.000271e+09</td>\n",
       "      <td>15689.250000</td>\n",
       "      <td>8335.085000</td>\n",
       "      <td>96.250000</td>\n",
       "      <td>8176.007500</td>\n",
       "      <td>8335.085000</td>\n",
       "      <td>15857.192500</td>\n",
       "      <td>1.000000</td>\n",
       "    </tr>\n",
       "    <tr>\n",
       "      <th>max</th>\n",
       "      <td>1.000399e+09</td>\n",
       "      <td>250000.000000</td>\n",
       "      <td>124998.000000</td>\n",
       "      <td>2784.000000</td>\n",
       "      <td>124998.000000</td>\n",
       "      <td>124998.000000</td>\n",
       "      <td>250000.000000</td>\n",
       "      <td>1.000000</td>\n",
       "    </tr>\n",
       "  </tbody>\n",
       "</table>\n",
       "</div>"
      ],
      "text/plain": [
       "                 ID           goal        pledged      backers    usd pledged  \\\n",
       "count  1.000000e+02     100.000000     100.000000   100.000000     100.000000   \n",
       "mean   9.272811e+08   19796.710000    9134.102600   125.130000    7754.993100   \n",
       "std    2.486553e+08   37117.042835   20203.825442   325.564022   17766.627521   \n",
       "min    1.000365e+07     100.000000       0.000000     0.000000       0.000000   \n",
       "25%    1.000072e+09    2875.000000      89.500000     3.000000      78.500000   \n",
       "50%    1.000184e+09    7500.000000    1116.000000    24.500000     771.910000   \n",
       "75%    1.000271e+09   15689.250000    8335.085000    96.250000    8176.007500   \n",
       "max    1.000399e+09  250000.000000  124998.000000  2784.000000  124998.000000   \n",
       "\n",
       "       usd_pledged_real  usd_goal_real  successful  \n",
       "count        100.000000     100.000000  100.000000  \n",
       "mean        9354.592000   19726.169400    0.420000  \n",
       "std        21418.768917   37012.836925    0.496045  \n",
       "min            0.000000      65.550000    0.000000  \n",
       "25%           96.575000    2894.837500    0.000000  \n",
       "50%         1116.000000    7608.205000    0.000000  \n",
       "75%         8335.085000   15857.192500    1.000000  \n",
       "max       124998.000000  250000.000000    1.000000  "
      ]
     },
     "execution_count": 56,
     "metadata": {},
     "output_type": "execute_result"
    }
   ],
   "source": [
    "df3.describe()"
   ]
  },
  {
   "cell_type": "code",
   "execution_count": 71,
   "metadata": {},
   "outputs": [
    {
     "name": "stderr",
     "output_type": "stream",
     "text": [
      "D:\\tools\\anaconda3\\lib\\site-packages\\sklearn\\utils\\validation.py:595: DataConversionWarning: Data with input dtype int64 was converted to float64 by StandardScaler.\n",
      "  warnings.warn(msg, DataConversionWarning)\n",
      "D:\\tools\\anaconda3\\lib\\site-packages\\sklearn\\utils\\validation.py:595: DataConversionWarning: Data with input dtype int64 was converted to float64 by StandardScaler.\n",
      "  warnings.warn(msg, DataConversionWarning)\n",
      "D:\\tools\\anaconda3\\lib\\site-packages\\sklearn\\utils\\validation.py:595: DataConversionWarning: Data with input dtype int64 was converted to float64 by StandardScaler.\n",
      "  warnings.warn(msg, DataConversionWarning)\n"
     ]
    }
   ],
   "source": [
    "y = df3[\"successful\"].values\n",
    "X = df3[[\"backers\"]].values\n",
    "\n",
    "X_train, X_test, y_train, y_test = train_test_split(X, y, test_size=0.3)\n",
    "\n",
    "# 標準化\n",
    "stdsc = StandardScaler()\n",
    "X_train = stdsc.fit_transform(X_train)\n",
    "X_test = stdsc.transform(X_test)\n",
    "\n",
    "# SVMの実行\n",
    "C = 10\n",
    "clf = SVC(C=C,kernel=\"linear\")\n",
    "clf.fit(X_train, y_train)\n",
    "\n",
    "# 未知のデータを識別する\n",
    "y_pred = clf.predict(X_test)"
   ]
  },
  {
   "cell_type": "code",
   "execution_count": 73,
   "metadata": {},
   "outputs": [
    {
     "name": "stdout",
     "output_type": "stream",
     "text": [
      "正答率（Accuracy） = 86.667%\n",
      "適合率（Precision） = 81.818%\n",
      "再現率（Recall） = 100.000%\n",
      "F1値（F1-score） = 90.000%\n"
     ]
    }
   ],
   "source": [
    "# 正答率を計算\n",
    "accuracy =  accuracy_score(y_test, y_pred)\n",
    "print('正答率（Accuracy） = {:.3f}%'.format(100 * accuracy))\n",
    "\n",
    "# Precision, Recall, F1-scoreを計算\n",
    "precision, recall, f1_score, _ = precision_recall_fscore_support(y_test, y_pred)\n",
    "\n",
    "# カテゴリ「2000万以上」に関するPrecision, Recall, F1-scoreを表示\n",
    "print('適合率（Precision） = {:.3f}%'.format(100 * precision[0]))\n",
    "print('再現率（Recall） = {:.3f}%'.format(100 * recall[0]))\n",
    "print('F1値（F1-score） = {:.3f}%'.format(100 * f1_score[0]))"
   ]
  },
  {
   "cell_type": "code",
   "execution_count": null,
   "metadata": {},
   "outputs": [],
   "source": []
  }
 ],
 "metadata": {
  "kernelspec": {
   "display_name": "Python 3",
   "language": "python",
   "name": "python3"
  },
  "language_info": {
   "codemirror_mode": {
    "name": "ipython",
    "version": 3
   },
   "file_extension": ".py",
   "mimetype": "text/x-python",
   "name": "python",
   "nbconvert_exporter": "python",
   "pygments_lexer": "ipython3",
   "version": "3.7.3"
  }
 },
 "nbformat": 4,
 "nbformat_minor": 2
}
