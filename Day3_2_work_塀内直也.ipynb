{
 "cells": [
  {
   "cell_type": "code",
   "execution_count": 2,
   "metadata": {},
   "outputs": [],
   "source": [
    "%matplotlib inline\n",
    "import pandas as pd\n",
    "import numpy as np\n",
    "from sklearn.linear_model import LinearRegression\n",
    "import seaborn as sns\n",
    "import matplotlib.pyplot as plt\n",
    "from mpl_toolkits.mplot3d import Axes3D #3D散布図の描画\n",
    "from sklearn.linear_model import LinearRegression, SGDClassifier\n",
    "from sklearn.metrics import mean_squared_error, mean_absolute_error # 回帰問題における性能評価に関する関数\n",
    "from  sklearn.metrics import accuracy_score, precision_recall_fscore_support, confusion_matrix # 回帰問題における性能評価に関する関数\n",
    "from sklearn.model_selection import train_test_split # ホールドアウト法に関する関数\n",
    "from sklearn.model_selection import KFold # 交差検証法に関する関数\n",
    "from sklearn.svm import SVC, SVR\n",
    "from sklearn.model_selection import GridSearchCV\n",
    "from sklearn.preprocessing import StandardScaler\n",
    "from sklearn.feature_selection import SelectFromModel\n",
    "from sklearn.linear_model import LassoCV"
   ]
  },
  {
   "cell_type": "code",
   "execution_count": 51,
   "metadata": {},
   "outputs": [],
   "source": [
    "df = pd.read_csv(\"../ks-projects-201801/ks-projects-201801.csv\")"
   ]
  },
  {
   "cell_type": "code",
   "execution_count": 52,
   "metadata": {},
   "outputs": [],
   "source": [
    "df = df.drop(df.index[20000:])"
   ]
  },
  {
   "cell_type": "code",
   "execution_count": 53,
   "metadata": {},
   "outputs": [],
   "source": [
    "df1 = pd.get_dummies(df['state'])\n",
    "df2 = pd.merge(df, df1, left_index=True, right_index=True)"
   ]
  },
  {
   "cell_type": "code",
   "execution_count": 54,
   "metadata": {
    "scrolled": true
   },
   "outputs": [
    {
     "data": {
      "text/html": [
       "<div>\n",
       "<style scoped>\n",
       "    .dataframe tbody tr th:only-of-type {\n",
       "        vertical-align: middle;\n",
       "    }\n",
       "\n",
       "    .dataframe tbody tr th {\n",
       "        vertical-align: top;\n",
       "    }\n",
       "\n",
       "    .dataframe thead th {\n",
       "        text-align: right;\n",
       "    }\n",
       "</style>\n",
       "<table border=\"1\" class=\"dataframe\">\n",
       "  <thead>\n",
       "    <tr style=\"text-align: right;\">\n",
       "      <th></th>\n",
       "      <th>ID</th>\n",
       "      <th>goal</th>\n",
       "      <th>pledged</th>\n",
       "      <th>backers</th>\n",
       "      <th>usd pledged</th>\n",
       "      <th>usd_pledged_real</th>\n",
       "      <th>usd_goal_real</th>\n",
       "      <th>canceled</th>\n",
       "      <th>failed</th>\n",
       "      <th>live</th>\n",
       "      <th>successful</th>\n",
       "      <th>suspended</th>\n",
       "      <th>undefined</th>\n",
       "    </tr>\n",
       "  </thead>\n",
       "  <tbody>\n",
       "    <tr>\n",
       "      <th>count</th>\n",
       "      <td>2.000000e+04</td>\n",
       "      <td>2.000000e+04</td>\n",
       "      <td>2.000000e+04</td>\n",
       "      <td>20000.00000</td>\n",
       "      <td>1.978400e+04</td>\n",
       "      <td>2.000000e+04</td>\n",
       "      <td>2.000000e+04</td>\n",
       "      <td>20000.000000</td>\n",
       "      <td>20000.000000</td>\n",
       "      <td>20000.000000</td>\n",
       "      <td>20000.000000</td>\n",
       "      <td>20000.000000</td>\n",
       "      <td>20000.000000</td>\n",
       "    </tr>\n",
       "    <tr>\n",
       "      <th>mean</th>\n",
       "      <td>9.543529e+08</td>\n",
       "      <td>3.743562e+04</td>\n",
       "      <td>1.021279e+04</td>\n",
       "      <td>104.82380</td>\n",
       "      <td>7.269650e+03</td>\n",
       "      <td>9.657101e+03</td>\n",
       "      <td>3.298461e+04</td>\n",
       "      <td>0.099350</td>\n",
       "      <td>0.522300</td>\n",
       "      <td>0.008100</td>\n",
       "      <td>0.355800</td>\n",
       "      <td>0.004500</td>\n",
       "      <td>0.009950</td>\n",
       "    </tr>\n",
       "    <tr>\n",
       "      <th>std</th>\n",
       "      <td>2.890876e+08</td>\n",
       "      <td>4.831207e+05</td>\n",
       "      <td>1.083815e+05</td>\n",
       "      <td>875.55497</td>\n",
       "      <td>8.885928e+04</td>\n",
       "      <td>1.060433e+05</td>\n",
       "      <td>3.802568e+05</td>\n",
       "      <td>0.299139</td>\n",
       "      <td>0.499515</td>\n",
       "      <td>0.089637</td>\n",
       "      <td>0.478767</td>\n",
       "      <td>0.066933</td>\n",
       "      <td>0.099255</td>\n",
       "    </tr>\n",
       "    <tr>\n",
       "      <th>min</th>\n",
       "      <td>1.061440e+05</td>\n",
       "      <td>1.000000e+00</td>\n",
       "      <td>0.000000e+00</td>\n",
       "      <td>0.00000</td>\n",
       "      <td>0.000000e+00</td>\n",
       "      <td>0.000000e+00</td>\n",
       "      <td>7.500000e-01</td>\n",
       "      <td>0.000000</td>\n",
       "      <td>0.000000</td>\n",
       "      <td>0.000000</td>\n",
       "      <td>0.000000</td>\n",
       "      <td>0.000000</td>\n",
       "      <td>0.000000</td>\n",
       "    </tr>\n",
       "    <tr>\n",
       "      <th>25%</th>\n",
       "      <td>1.017217e+09</td>\n",
       "      <td>2.000000e+03</td>\n",
       "      <td>3.200000e+01</td>\n",
       "      <td>2.00000</td>\n",
       "      <td>2.000000e+01</td>\n",
       "      <td>3.287500e+01</td>\n",
       "      <td>2.000000e+03</td>\n",
       "      <td>0.000000</td>\n",
       "      <td>0.000000</td>\n",
       "      <td>0.000000</td>\n",
       "      <td>0.000000</td>\n",
       "      <td>0.000000</td>\n",
       "      <td>0.000000</td>\n",
       "    </tr>\n",
       "    <tr>\n",
       "      <th>50%</th>\n",
       "      <td>1.044776e+09</td>\n",
       "      <td>5.000000e+03</td>\n",
       "      <td>6.200000e+02</td>\n",
       "      <td>12.00000</td>\n",
       "      <td>4.000000e+02</td>\n",
       "      <td>6.185700e+02</td>\n",
       "      <td>5.252090e+03</td>\n",
       "      <td>0.000000</td>\n",
       "      <td>1.000000</td>\n",
       "      <td>0.000000</td>\n",
       "      <td>0.000000</td>\n",
       "      <td>0.000000</td>\n",
       "      <td>0.000000</td>\n",
       "    </tr>\n",
       "    <tr>\n",
       "      <th>75%</th>\n",
       "      <td>1.072536e+09</td>\n",
       "      <td>1.600000e+04</td>\n",
       "      <td>4.056250e+03</td>\n",
       "      <td>55.00000</td>\n",
       "      <td>3.035000e+03</td>\n",
       "      <td>4.013250e+03</td>\n",
       "      <td>1.550000e+04</td>\n",
       "      <td>0.000000</td>\n",
       "      <td>1.000000</td>\n",
       "      <td>0.000000</td>\n",
       "      <td>1.000000</td>\n",
       "      <td>0.000000</td>\n",
       "      <td>0.000000</td>\n",
       "    </tr>\n",
       "    <tr>\n",
       "      <th>max</th>\n",
       "      <td>1.101580e+09</td>\n",
       "      <td>4.000000e+07</td>\n",
       "      <td>8.596475e+06</td>\n",
       "      <td>64867.00000</td>\n",
       "      <td>8.596475e+06</td>\n",
       "      <td>8.596475e+06</td>\n",
       "      <td>3.300000e+07</td>\n",
       "      <td>1.000000</td>\n",
       "      <td>1.000000</td>\n",
       "      <td>1.000000</td>\n",
       "      <td>1.000000</td>\n",
       "      <td>1.000000</td>\n",
       "      <td>1.000000</td>\n",
       "    </tr>\n",
       "  </tbody>\n",
       "</table>\n",
       "</div>"
      ],
      "text/plain": [
       "                 ID          goal       pledged      backers   usd pledged  \\\n",
       "count  2.000000e+04  2.000000e+04  2.000000e+04  20000.00000  1.978400e+04   \n",
       "mean   9.543529e+08  3.743562e+04  1.021279e+04    104.82380  7.269650e+03   \n",
       "std    2.890876e+08  4.831207e+05  1.083815e+05    875.55497  8.885928e+04   \n",
       "min    1.061440e+05  1.000000e+00  0.000000e+00      0.00000  0.000000e+00   \n",
       "25%    1.017217e+09  2.000000e+03  3.200000e+01      2.00000  2.000000e+01   \n",
       "50%    1.044776e+09  5.000000e+03  6.200000e+02     12.00000  4.000000e+02   \n",
       "75%    1.072536e+09  1.600000e+04  4.056250e+03     55.00000  3.035000e+03   \n",
       "max    1.101580e+09  4.000000e+07  8.596475e+06  64867.00000  8.596475e+06   \n",
       "\n",
       "       usd_pledged_real  usd_goal_real      canceled        failed  \\\n",
       "count      2.000000e+04   2.000000e+04  20000.000000  20000.000000   \n",
       "mean       9.657101e+03   3.298461e+04      0.099350      0.522300   \n",
       "std        1.060433e+05   3.802568e+05      0.299139      0.499515   \n",
       "min        0.000000e+00   7.500000e-01      0.000000      0.000000   \n",
       "25%        3.287500e+01   2.000000e+03      0.000000      0.000000   \n",
       "50%        6.185700e+02   5.252090e+03      0.000000      1.000000   \n",
       "75%        4.013250e+03   1.550000e+04      0.000000      1.000000   \n",
       "max        8.596475e+06   3.300000e+07      1.000000      1.000000   \n",
       "\n",
       "               live    successful     suspended     undefined  \n",
       "count  20000.000000  20000.000000  20000.000000  20000.000000  \n",
       "mean       0.008100      0.355800      0.004500      0.009950  \n",
       "std        0.089637      0.478767      0.066933      0.099255  \n",
       "min        0.000000      0.000000      0.000000      0.000000  \n",
       "25%        0.000000      0.000000      0.000000      0.000000  \n",
       "50%        0.000000      0.000000      0.000000      0.000000  \n",
       "75%        0.000000      1.000000      0.000000      0.000000  \n",
       "max        1.000000      1.000000      1.000000      1.000000  "
      ]
     },
     "execution_count": 54,
     "metadata": {},
     "output_type": "execute_result"
    }
   ],
   "source": [
    "df2.describe()"
   ]
  },
  {
   "cell_type": "code",
   "execution_count": 55,
   "metadata": {},
   "outputs": [
    {
     "data": {
      "text/html": [
       "<div>\n",
       "<style scoped>\n",
       "    .dataframe tbody tr th:only-of-type {\n",
       "        vertical-align: middle;\n",
       "    }\n",
       "\n",
       "    .dataframe tbody tr th {\n",
       "        vertical-align: top;\n",
       "    }\n",
       "\n",
       "    .dataframe thead th {\n",
       "        text-align: right;\n",
       "    }\n",
       "</style>\n",
       "<table border=\"1\" class=\"dataframe\">\n",
       "  <thead>\n",
       "    <tr style=\"text-align: right;\">\n",
       "      <th></th>\n",
       "      <th>ID</th>\n",
       "      <th>goal</th>\n",
       "      <th>pledged</th>\n",
       "      <th>backers</th>\n",
       "      <th>usd pledged</th>\n",
       "      <th>usd_pledged_real</th>\n",
       "      <th>usd_goal_real</th>\n",
       "      <th>successful</th>\n",
       "    </tr>\n",
       "  </thead>\n",
       "  <tbody>\n",
       "    <tr>\n",
       "      <th>0</th>\n",
       "      <td>1000002330</td>\n",
       "      <td>1000.0</td>\n",
       "      <td>0.0</td>\n",
       "      <td>0</td>\n",
       "      <td>0.0</td>\n",
       "      <td>0.0</td>\n",
       "      <td>1533.95</td>\n",
       "      <td>0</td>\n",
       "    </tr>\n",
       "    <tr>\n",
       "      <th>1</th>\n",
       "      <td>1000003930</td>\n",
       "      <td>30000.0</td>\n",
       "      <td>2421.0</td>\n",
       "      <td>15</td>\n",
       "      <td>100.0</td>\n",
       "      <td>2421.0</td>\n",
       "      <td>30000.00</td>\n",
       "      <td>0</td>\n",
       "    </tr>\n",
       "    <tr>\n",
       "      <th>2</th>\n",
       "      <td>1000004038</td>\n",
       "      <td>45000.0</td>\n",
       "      <td>220.0</td>\n",
       "      <td>3</td>\n",
       "      <td>220.0</td>\n",
       "      <td>220.0</td>\n",
       "      <td>45000.00</td>\n",
       "      <td>0</td>\n",
       "    </tr>\n",
       "    <tr>\n",
       "      <th>3</th>\n",
       "      <td>1000007540</td>\n",
       "      <td>5000.0</td>\n",
       "      <td>1.0</td>\n",
       "      <td>1</td>\n",
       "      <td>1.0</td>\n",
       "      <td>1.0</td>\n",
       "      <td>5000.00</td>\n",
       "      <td>0</td>\n",
       "    </tr>\n",
       "    <tr>\n",
       "      <th>4</th>\n",
       "      <td>1000011046</td>\n",
       "      <td>19500.0</td>\n",
       "      <td>1283.0</td>\n",
       "      <td>14</td>\n",
       "      <td>1283.0</td>\n",
       "      <td>1283.0</td>\n",
       "      <td>19500.00</td>\n",
       "      <td>0</td>\n",
       "    </tr>\n",
       "  </tbody>\n",
       "</table>\n",
       "</div>"
      ],
      "text/plain": [
       "           ID     goal  pledged  backers  usd pledged  usd_pledged_real  \\\n",
       "0  1000002330   1000.0      0.0        0          0.0               0.0   \n",
       "1  1000003930  30000.0   2421.0       15        100.0            2421.0   \n",
       "2  1000004038  45000.0    220.0        3        220.0             220.0   \n",
       "3  1000007540   5000.0      1.0        1          1.0               1.0   \n",
       "4  1000011046  19500.0   1283.0       14       1283.0            1283.0   \n",
       "\n",
       "   usd_goal_real  successful  \n",
       "0        1533.95           0  \n",
       "1       30000.00           0  \n",
       "2       45000.00           0  \n",
       "3        5000.00           0  \n",
       "4       19500.00           0  "
      ]
     },
     "execution_count": 55,
     "metadata": {},
     "output_type": "execute_result"
    }
   ],
   "source": [
    "df2 = df2.drop(\"canceled\", axis=1)\n",
    "df2 = df2.drop(\"failed\", axis=1)\n",
    "df2 = df2.drop(\"live\",  axis=1)\n",
    "df2 = df2.drop(\"suspended\",  axis=1)\n",
    "df2 = df2.drop(\"undefined\",  axis=1)\n",
    "df2 = df2.drop(\"name\", axis=1)\n",
    "df2 = df2.drop(\"category\", axis=1)\n",
    "df2 = df2.drop(\"main_category\", axis=1)\n",
    "df2 = df2.drop(\"currency\", axis=1)\n",
    "df2 = df2.drop(\"deadline\", axis=1)\n",
    "df2 = df2.drop(\"launched\", axis=1)\n",
    "df2 = df2.drop(\"state\", axis=1)\n",
    "df2 = df2.drop(\"country\", axis=1)\n",
    "df2.head()"
   ]
  },
  {
   "cell_type": "code",
   "execution_count": 56,
   "metadata": {
    "scrolled": true
   },
   "outputs": [
    {
     "data": {
      "text/plain": [
       "ID                    0\n",
       "goal                  0\n",
       "pledged               0\n",
       "backers               0\n",
       "usd pledged         216\n",
       "usd_pledged_real      0\n",
       "usd_goal_real         0\n",
       "successful            0\n",
       "dtype: int64"
      ]
     },
     "execution_count": 56,
     "metadata": {},
     "output_type": "execute_result"
    }
   ],
   "source": [
    "df2.isnull().sum()"
   ]
  },
  {
   "cell_type": "code",
   "execution_count": 57,
   "metadata": {},
   "outputs": [],
   "source": [
    "df2 = df2.fillna(0)"
   ]
  },
  {
   "cell_type": "code",
   "execution_count": 58,
   "metadata": {},
   "outputs": [
    {
     "data": {
      "text/plain": [
       "ID                  0\n",
       "goal                0\n",
       "pledged             0\n",
       "backers             0\n",
       "usd pledged         0\n",
       "usd_pledged_real    0\n",
       "usd_goal_real       0\n",
       "successful          0\n",
       "dtype: int64"
      ]
     },
     "execution_count": 58,
     "metadata": {},
     "output_type": "execute_result"
    }
   ],
   "source": [
    "df2.isnull().sum()"
   ]
  },
  {
   "cell_type": "code",
   "execution_count": 59,
   "metadata": {},
   "outputs": [],
   "source": [
    "estimator = LassoCV(normalize=True, cv=10)\n",
    "\n",
    "sfm = SelectFromModel(estimator, threshold=1e-5)"
   ]
  },
  {
   "cell_type": "code",
   "execution_count": 60,
   "metadata": {},
   "outputs": [
    {
     "data": {
      "text/plain": [
       "SelectFromModel(estimator=LassoCV(alphas=None, copy_X=True, cv=10, eps=0.001, fit_intercept=True,\n",
       "    max_iter=1000, n_alphas=100, n_jobs=None, normalize=True,\n",
       "    positive=False, precompute='auto', random_state=None,\n",
       "    selection='cyclic', tol=0.0001, verbose=False),\n",
       "        max_features=None, norm_order=1, prefit=False, threshold=1e-05)"
      ]
     },
     "execution_count": 60,
     "metadata": {},
     "output_type": "execute_result"
    }
   ],
   "source": [
    "train_label = df2[\"successful\"]\n",
    "train_data = df2.drop(\"successful\", axis=1)\n",
    "\n",
    "y = train_label.values\n",
    "X = train_data.values\n",
    "\n",
    "# fitで特徴選択を実行\n",
    "sfm.fit(X, y)"
   ]
  },
  {
   "cell_type": "code",
   "execution_count": 61,
   "metadata": {
    "scrolled": true
   },
   "outputs": [
    {
     "data": {
      "text/plain": [
       "array([False, False, False,  True, False, False, False])"
      ]
     },
     "execution_count": 61,
     "metadata": {},
     "output_type": "execute_result"
    }
   ],
   "source": [
    "sfm.get_support()"
   ]
  },
  {
   "cell_type": "code",
   "execution_count": 62,
   "metadata": {
    "scrolled": true
   },
   "outputs": [
    {
     "data": {
      "text/plain": [
       "Index(['ID', 'goal', 'pledged', 'usd pledged', 'usd_pledged_real',\n",
       "       'usd_goal_real'],\n",
       "      dtype='object')"
      ]
     },
     "execution_count": 62,
     "metadata": {},
     "output_type": "execute_result"
    }
   ],
   "source": [
    "removed_idx  = ~sfm.get_support()\n",
    "train_data.columns[removed_idx]"
   ]
  },
  {
   "cell_type": "code",
   "execution_count": 63,
   "metadata": {},
   "outputs": [
    {
     "data": {
      "text/plain": [
       "array([0.00000000e+00, 0.00000000e+00, 0.00000000e+00, 5.75428434e-05,\n",
       "       0.00000000e+00, 0.00000000e+00, 2.39307879e-08])"
      ]
     },
     "execution_count": 63,
     "metadata": {},
     "output_type": "execute_result"
    }
   ],
   "source": [
    "abs_coef = np.abs(sfm.estimator_.coef_)\n",
    "abs_coef"
   ]
  },
  {
   "cell_type": "code",
   "execution_count": 64,
   "metadata": {},
   "outputs": [
    {
     "data": {
      "image/png": "[encoded data removed]",
      "text/plain": [
       "<Figure size 432x288 with 1 Axes>"
      ]
     },
     "metadata": {
      "needs_background": "light"
     },
     "output_type": "display_data"
    }
   ],
   "source": [
    "plt.barh(np.arange(0, len(abs_coef)), abs_coef, tick_label=train_data.columns.values)\n",
    "plt.show()"
   ]
  },
  {
   "cell_type": "code",
   "execution_count": null,
   "metadata": {},
   "outputs": [],
   "source": []
  }
 ],
 "metadata": {
  "kernelspec": {
   "display_name": "Python 3",
   "language": "python",
   "name": "python3"
  },
  "language_info": {
   "codemirror_mode": {
    "name": "ipython",
    "version": 3
   },
   "file_extension": ".py",
   "mimetype": "text/x-python",
   "name": "python",
   "nbconvert_exporter": "python",
   "pygments_lexer": "ipython3",
   "version": "3.7.3"
  }
 },
 "nbformat": 4,
 "nbformat_minor": 2
}
